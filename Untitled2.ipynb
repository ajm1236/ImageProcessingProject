{
 "cells": [
  {
   "cell_type": "code",
   "execution_count": 307,
   "id": "8be93ada",
   "metadata": {},
   "outputs": [],
   "source": [
    "import cv2\n",
    "import numpy as np\n",
    "from matplotlib import pyplot as plt\n",
    "from matplotlib import image as image\n",
    "from PIL import Image\n",
    "from pytesseract import pytesseract"
   ]
  },
  {
   "cell_type": "code",
   "execution_count": 308,
   "id": "51047f2c",
   "metadata": {},
   "outputs": [],
   "source": [
    "image = cv2.imread(\"mulitple10.png\")\n",
    "I = image.copy()"
   ]
  },
  {
   "cell_type": "code",
   "execution_count": 309,
   "id": "393b83ab",
   "metadata": {},
   "outputs": [],
   "source": [
    "image = cv2.cvtColor(image, cv2.COLOR_BGR2GRAY)"
   ]
  },
  {
   "cell_type": "code",
   "execution_count": 310,
   "id": "ac89d9b0",
   "metadata": {},
   "outputs": [],
   "source": [
    "thresh = cv2.adaptiveThreshold(image, 255, cv2.ADAPTIVE_THRESH_GAUSSIAN_C,\n",
    "                                cv2.THRESH_BINARY, blockSize=199, C=6)\n",
    "# thresh = cv2.medianBlur(thresh, 5)\n",
    "# kernel = np.ones((5,5), np.uint8)\n",
    "# thresh = cv2.erode(thresh, kernel, iterations = 1)\n",
    "# thresh = cv2.morphologyEx(thresh, cv2.MORPH_OPEN, kernel)\n",
    "\n",
    "cv2.imshow(\"Real\", thresh)\n",
    "key = cv2.waitKey(0) \n",
    "cv2.destroyAllWindows()"
   ]
  },
  {
   "cell_type": "code",
   "execution_count": 311,
   "id": "c4cc6315",
   "metadata": {},
   "outputs": [],
   "source": [
    "text = pytesseract.image_to_string(thresh, config=\"--psm 6\")\n",
    "\n",
    "if '50' in text:\n",
    "    count50 = text.count(\"50\")\n",
    "\n",
    "if \"20\" in text:\n",
    "    count20 = text.count(\"20\")\n",
    "\n",
    "if \"10\" in text:\n",
    "    count10 = text.count(\"10\")\n",
    "\n",
    "if \"5\" in text:\n",
    "    count5 = text.count(\"5\")\n",
    "\n",
    "if \"50\" not in text:\n",
    "    count50 = 0\n",
    "\n",
    "if \"20\" not in text:\n",
    "    count20 = 0\n",
    "\n",
    "if \"10\" not in text:\n",
    "    count10 = 0\n",
    "\n",
    "if \"5\" not in text:\n",
    "    count5 = 0\n"
   ]
  },
  {
   "cell_type": "code",
   "execution_count": 312,
   "id": "e23285c1",
   "metadata": {},
   "outputs": [
    {
     "name": "stdout",
     "output_type": "stream",
     "text": [
      "Sum of the notes found = 20 euro\n"
     ]
    }
   ],
   "source": [
    "calc = count5*5 + count10*10 + count20*20 + count50*50\n",
    "print(\"Sum of the notes found =\" , calc , \"euro\")"
   ]
  },
  {
   "cell_type": "code",
   "execution_count": 313,
   "id": "d7767471",
   "metadata": {},
   "outputs": [],
   "source": [
    "# cv2.imshow(\"Real\", thresh)\n",
    "# key = cv2.waitKey(0) \n",
    "# cv2.destroyAllWindows()"
   ]
  }
 ],
 "metadata": {
  "kernelspec": {
   "display_name": "Python 3.10.7 64-bit",
   "language": "python",
   "name": "python3"
  },
  "language_info": {
   "codemirror_mode": {
    "name": "ipython",
    "version": 3
   },
   "file_extension": ".py",
   "mimetype": "text/x-python",
   "name": "python",
   "nbconvert_exporter": "python",
   "pygments_lexer": "ipython3",
   "version": "3.10.7"
  },
  "vscode": {
   "interpreter": {
    "hash": "c374048c2cf1802d093345b5fe8e7a40d1993e7097afda668dc0d0dd9241d02b"
   }
  }
 },
 "nbformat": 4,
 "nbformat_minor": 5
}
