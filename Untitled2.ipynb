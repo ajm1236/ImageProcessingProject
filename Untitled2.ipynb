{
 "cells": [
  {
   "cell_type": "code",
   "execution_count": null,
   "id": "8be93ada",
   "metadata": {},
   "outputs": [],
   "source": [
    "import cv2\n",
    "import numpy as np\n",
    "from matplotlib import pyplot as plt\n",
    "from matplotlib import image as image\n",
    "from PIL import Image\n",
    "from pytesseract import pytesseract"
   ]
  },
  {
   "cell_type": "code",
   "execution_count": null,
   "id": "51047f2c",
   "metadata": {},
   "outputs": [],
   "source": [
    "image = cv2.imread(\"51020.png\")"
   ]
  },
  {
   "cell_type": "code",
   "execution_count": null,
   "id": "393b83ab",
   "metadata": {},
   "outputs": [],
   "source": [
    "image = cv2.cvtColor(image, cv2.COLOR_BGR2GRAY)"
   ]
  },
  {
   "cell_type": "code",
   "execution_count": null,
   "id": "ac89d9b0",
   "metadata": {},
   "outputs": [],
   "source": [
    "thresh = cv2.adaptiveThreshold(image, 255, cv2.ADAPTIVE_THRESH_GAUSSIAN_C,\n",
    "                                cv2.THRESH_BINARY, 199, 6)"
   ]
  },
  {
   "cell_type": "code",
   "execution_count": null,
   "id": "c4cc6315",
   "metadata": {},
   "outputs": [],
   "source": [
    "text = pytesseract.image_to_string(thresh, config=\"--psm 6\")\n",
    "\n",
    "if '50' in text:\n",
    "    count50 = text.count(\"50\")\n",
    "\n",
    "if \"20\" in text:\n",
    "    count20 = text.count(\"20\")\n",
    "\n",
    "if \"10\" in text:\n",
    "    count10 = text.count(\"10\")\n",
    "\n",
    "if \"5\" in text:\n",
    "    count5 = text.count(\"5\")\n",
    "\n",
    "\n",
    "print(count5, count10, count20)\n",
    "print(text)\n"
   ]
  },
  {
   "cell_type": "code",
   "execution_count": null,
   "id": "e23285c1",
   "metadata": {},
   "outputs": [],
   "source": [
    "calc = count5*5 + count10*10 + count20*20\n",
    "print(calc)"
   ]
  },
  {
   "cell_type": "code",
   "execution_count": null,
   "id": "d7767471",
   "metadata": {},
   "outputs": [],
   "source": [
    "cv2.imshow(\"Real\", thresh)\n",
    "key = cv2.waitKey(0) \n",
    "cv2.destroyAllWindows()"
   ]
  }
 ],
 "metadata": {
  "kernelspec": {
   "display_name": "Python 3.10.7 64-bit",
   "language": "python",
   "name": "python3"
  },
  "language_info": {
   "codemirror_mode": {
    "name": "ipython",
    "version": 3
   },
   "file_extension": ".py",
   "mimetype": "text/x-python",
   "name": "python",
   "nbconvert_exporter": "python",
   "pygments_lexer": "ipython3",
   "version": "3.10.7"
  },
  "vscode": {
   "interpreter": {
    "hash": "c374048c2cf1802d093345b5fe8e7a40d1993e7097afda668dc0d0dd9241d02b"
   }
  }
 },
 "nbformat": 4,
 "nbformat_minor": 5
}
