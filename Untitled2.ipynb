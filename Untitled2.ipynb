{
 "cells": [
  {
   "cell_type": "code",
   "execution_count": 73,
   "id": "8be93ada",
   "metadata": {},
   "outputs": [],
   "source": [
    "import cv2\n",
    "import numpy as np\n",
    "from matplotlib import pyplot as plt\n",
    "from matplotlib import image as image\n",
    "import easygui"
   ]
  },
  {
   "cell_type": "code",
   "execution_count": 74,
   "id": "51047f2c",
   "metadata": {},
   "outputs": [],
   "source": [
    "real = cv2.imread(\"unknown.png\")\n",
    "fake = cv2.imread(\"fake.png\")"
   ]
  },
  {
   "cell_type": "code",
   "execution_count": 75,
   "id": "393b83ab",
   "metadata": {},
   "outputs": [],
   "source": [
    "editR = cv2.cvtColor(real, cv2.COLOR_BGR2GRAY) \n",
    "editF = cv2.cvtColor(fake, cv2.COLOR_BGR2GRAY)\n",
    "editR = cv2.Canny(editR,threshold1=100,threshold2=300)\n",
    "editF = cv2.Canny(editF,threshold1=100,threshold2=300)"
   ]
  },
  {
   "cell_type": "code",
   "execution_count": 76,
   "id": "ac89d9b0",
   "metadata": {},
   "outputs": [],
   "source": [
    "# plt.subplot(1,2,1)\n",
    "# plt.imshow(edR)\n",
    "# plt.subplot(1,2,2)\n",
    "# plt.imshow(edF)\n",
    "cv2.imshow(\"Real\", editR)\n",
    "key = cv2.waitKey(0) \n",
    "cv2.destroyAllWindows()\n",
    "cv2.imshow(\"Fake\", editF)\n",
    "key = cv2.waitKey(0) \n",
    "cv2.destroyAllWindows()"
   ]
  },
  {
   "cell_type": "code",
   "execution_count": null,
   "id": "c4cc6315",
   "metadata": {},
   "outputs": [],
   "source": []
  }
 ],
 "metadata": {
  "kernelspec": {
   "display_name": "Python 3 (ipykernel)",
   "language": "python",
   "name": "python3"
  },
  "language_info": {
   "codemirror_mode": {
    "name": "ipython",
    "version": 3
   },
   "file_extension": ".py",
   "mimetype": "text/x-python",
   "name": "python",
   "nbconvert_exporter": "python",
   "pygments_lexer": "ipython3",
   "version": "3.9.12"
  }
 },
 "nbformat": 4,
 "nbformat_minor": 5
}
