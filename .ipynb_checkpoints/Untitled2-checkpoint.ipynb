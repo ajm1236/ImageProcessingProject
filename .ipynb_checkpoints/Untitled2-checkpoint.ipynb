{
 "cells": [
  {
   "cell_type": "code",
   "execution_count": 1,
   "id": "8be93ada",
   "metadata": {},
   "outputs": [],
   "source": [
    "import cv2\n",
    "import numpy as np\n",
    "from matplotlib import pyplot as plt\n",
    "from matplotlib import image as image\n",
    "from PIL import Image\n",
    "from pytesseract import pytesseract\n",
    "import re\n",
    "from re import search\n",
    "import easygui"
   ]
  },
  {
   "cell_type": "code",
   "execution_count": 2,
   "id": "51047f2c",
   "metadata": {},
   "outputs": [],
   "source": [
    "image_path = easygui.fileopenbox()\n",
    "\n",
    "image = cv2.imread(image_path)"
   ]
  },
  {
   "cell_type": "code",
   "execution_count": 3,
   "id": "77eede0b",
   "metadata": {},
   "outputs": [],
   "source": [
    "#Convert to greyscale\n",
    "gray = cv2.cvtColor(image, cv2.COLOR_BGR2GRAY)\n",
    "\n",
    "#Reducing noise in image\n",
    "image = cv2.fastNlMeansDenoising(gray, None, 10, 7, 21) \n",
    "\n",
    "#Apply gaussian blur to image\n",
    "blurred = cv2.GaussianBlur(image, (3, 3), 0)"
   ]
  },
  {
   "cell_type": "code",
   "execution_count": 4,
   "id": "b70c9a4e",
   "metadata": {},
   "outputs": [],
   "source": [
    "#Equalize histogram\n",
    "\n",
    "hist = cv2.equalizeHist(blurred)\n",
    "\n",
    "#Apply thresholding\n",
    "thresh = cv2.adaptiveThreshold(hist, 255, cv2.ADAPTIVE_THRESH_MEAN_C, cv2.THRESH_BINARY, 19, 10)"
   ]
  },
  {
   "cell_type": "code",
   "execution_count": 5,
   "id": "eefd2241",
   "metadata": {},
   "outputs": [
    {
     "name": "stdout",
     "output_type": "stream",
     "text": [
      "se 7 a ind\n",
      "Rake An , as come\n",
      "eA = Ae a\n",
      "ay tte! a\n",
      "ET vAL none eg ge\n",
      "; . ao T y we . 4 _—? ‘ov 4\n",
      "mre! ab DO 64 ,\n",
      "oy (Ode rey 1\n",
      "SBUEEL 157053961. v |\n",
      "RSP rete Sy 1. a\n",
      "Paste srere ° | _ 7 : 3\n",
      "peta ° ° . “ , : 3 :\n",
      "“4\n",
      "Prugstresesy wee > fo\n",
      "ASSES re _ -| :\n",
      "Mies » . | |\n",
      "ei eeeeeety eae ° ~ 7\n",
      "¢ DE | =,\n",
      "REISS | *- - :\n",
      "ty . -,4@ e - » S\n",
      "Ne\n",
      "\n"
     ]
    }
   ],
   "source": [
    "text = pytesseract.image_to_string(255 - thresh, config=\"--psm 6\")\n",
    "print(text)"
   ]
  },
  {
   "cell_type": "code",
   "execution_count": 6,
   "id": "628fe46a",
   "metadata": {},
   "outputs": [
    {
     "ename": "AttributeError",
     "evalue": "'NoneType' object has no attribute 'group'",
     "output_type": "error",
     "traceback": [
      "\u001b[0;31m---------------------------------------------------------------------------\u001b[0m",
      "\u001b[0;31mAttributeError\u001b[0m                            Traceback (most recent call last)",
      "Input \u001b[0;32mIn [6]\u001b[0m, in \u001b[0;36m<cell line: 3>\u001b[0;34m()\u001b[0m\n\u001b[1;32m      1\u001b[0m matchedSerial \u001b[38;5;241m=\u001b[39m search(\u001b[38;5;124m'\u001b[39m\u001b[38;5;124m[a-zA-Z]\u001b[39m\u001b[38;5;132;01m{2}\u001b[39;00m\u001b[38;5;124m\\\u001b[39m\u001b[38;5;124md\u001b[39m\u001b[38;5;132;01m{10}\u001b[39;00m\u001b[38;5;124m'\u001b[39m, text)\n\u001b[0;32m----> 3\u001b[0m serialNumber \u001b[38;5;241m=\u001b[39m \u001b[43mmatchedSerial\u001b[49m\u001b[38;5;241;43m.\u001b[39;49m\u001b[43mgroup\u001b[49m(\u001b[38;5;241m0\u001b[39m)\n",
      "\u001b[0;31mAttributeError\u001b[0m: 'NoneType' object has no attribute 'group'"
     ]
    }
   ],
   "source": [
    "matchedSerial = search('[a-zA-Z]{2}\\d{10}', text)\n",
    "\n",
    "serialNumber = matchedSerial.group(0)"
   ]
  },
  {
   "cell_type": "code",
   "execution_count": null,
   "id": "e2c8f13f",
   "metadata": {},
   "outputs": [],
   "source": [
    "#Gets 2nd element of serial number (control code)\n",
    "controlCode = serialNumber[1]\n",
    "#Get string ascii value of control code\n",
    "ascii = str(ord(controlCode))"
   ]
  },
  {
   "cell_type": "code",
   "execution_count": null,
   "id": "09721081",
   "metadata": {},
   "outputs": [],
   "source": [
    "#Get 1st element of serial number (country code)\n",
    "firstLetter = serialNumber[0]\n",
    "\n",
    "#Assign country number based on Eurozone values\n",
    "if firstLetter == 'D':\n",
    "    countryCode = 4\n",
    "    countryOfIssue = \"Estonia\"\n",
    "    \n",
    "elif firstLetter == 'E':\n",
    "    countryCode = 3\n",
    "    countryOfIssue = \"Slovakia\"\n",
    "    \n",
    "elif firstLetter == 'F':\n",
    "    countryCode = 2\n",
    "    countryOfIssue = \"Malta\"\n",
    "    \n",
    "elif firstLetter == 'G':\n",
    "    countryCode = 1\n",
    "    countryOfIssue = \"Cyprus\"\n",
    "\n",
    "elif firstLetter == 'H':\n",
    "    countryCode = 9\n",
    "    countryOfIssue = \"Slovenia\"\n",
    "\n",
    "elif firstLetter == 'J':\n",
    "    countryCode = 7\n",
    "    countryOfIssue = \"United Kingdom\"\n",
    "\n",
    "elif firstLetter == 'K':\n",
    "    countryCode = 6\n",
    "    countryOfIssue = \"Sweden\"\n",
    "    \n",
    "elif firstLetter == 'L':\n",
    "    countryCode = 5\n",
    "    countryOfIssue = \"Finland\"\n",
    "    \n",
    "elif firstLetter == 'M':\n",
    "    countryCode = 4\n",
    "    countryOfIssue = \"Portugal\"\n",
    "    \n",
    "elif firstLetter == 'N':\n",
    "    countryCode = 3\n",
    "    countryOfIssue = \"Austria\"\n",
    "    \n",
    "elif firstLetter == 'P':\n",
    "    countryCode = 1\n",
    "    countryOfIssue = \"Netherlands\"\n",
    "    \n",
    "elif firstLetter == 'R':\n",
    "    countryCode = 8\n",
    "    countryOfIssue = \"Luxembourg\"\n",
    "    \n",
    "elif firstLetter == 'S':\n",
    "    countryCode = 7\n",
    "    countryOfIssue = \"Italy\"\n",
    "    \n",
    "elif firstLetter == 'T':\n",
    "    countryCode = 6\n",
    "    countryOfIssue = \"Ireland\"\n",
    "    \n",
    "elif firstLetter == 'U':\n",
    "    countryCode = 5\n",
    "    countryOfIssue = \"France\"\n",
    "    \n",
    "elif firstLetter == 'V':\n",
    "    countryCode = 4\n",
    "    countryOfIssue = \"Spain\"\n",
    "    \n",
    "elif firstLetter == 'W':\n",
    "    countryCode = 3\n",
    "    countryOfIssue = \"Denmark\"\n",
    "    \n",
    "elif firstLetter == 'X':\n",
    "    countryCode = 2\n",
    "    countryOfIssue = \"Germany\"\n",
    "    \n",
    "elif firstLetter == 'Y':\n",
    "    countryCode = 1\n",
    "    countryOfIssue = \"Greece\"\n",
    "    \n",
    "elif firstLetter == 'Z':\n",
    "    countryCode = 9\n",
    "    countryOfIssue = \"Belgium\""
   ]
  },
  {
   "cell_type": "code",
   "execution_count": null,
   "id": "e23285c1",
   "metadata": {},
   "outputs": [],
   "source": [
    "#Function to add all int values in a string together one by one\n",
    "def sum_string(str1):\n",
    "    sum_digit = 0\n",
    "    for x in str1:\n",
    "        if x.isdigit() == True:\n",
    "            z = int(x)\n",
    "            sum_digit = sum_digit + z\n",
    "    return sum_digit\n",
    "\n",
    "#Set serialSum to sum of serial number AND ascii number (control code)\n",
    "serialSum = (int(sum_string(serialNumber) + int(sum_string(ascii))))\n",
    "print (serialSum)"
   ]
  },
  {
   "cell_type": "code",
   "execution_count": null,
   "id": "4a0525e9",
   "metadata": {},
   "outputs": [],
   "source": [
    "#Sum should be under 9 as per Eurozone country values, so apply mod 9\n",
    "if (serialSum > 9):\n",
    "    serialSum = serialSum % 9\n",
    "print(serialSum)"
   ]
  },
  {
   "cell_type": "code",
   "execution_count": null,
   "id": "2628ae6c",
   "metadata": {},
   "outputs": [],
   "source": [
    "if (sum_string(str(serialSum)) == countryCode):\n",
    "    print(\"Note is valid!\\n\")\n",
    "    print(\"Country of issue:\", countryOfIssue)\n",
    "    print(\"\")\n",
    "    print(sum_string(str(serialSum)), \"=\", countryCode, \"( Checksum = Country code:\", firstLetter, \")\")\n",
    "else:\n",
    "    print(\"Note is not valid!\")\n",
    "    print(sum_string(str(serialSum)), \"≠\", countryCode, \"( Checksum ≠ Country code:\", firstLetter, \")\")"
   ]
  }
 ],
 "metadata": {
  "kernelspec": {
   "display_name": "Python 3 (ipykernel)",
   "language": "python",
   "name": "python3"
  },
  "language_info": {
   "codemirror_mode": {
    "name": "ipython",
    "version": 3
   },
   "file_extension": ".py",
   "mimetype": "text/x-python",
   "name": "python",
   "nbconvert_exporter": "python",
   "pygments_lexer": "ipython3",
   "version": "3.9.13"
  }
 },
 "nbformat": 4,
 "nbformat_minor": 5
}
